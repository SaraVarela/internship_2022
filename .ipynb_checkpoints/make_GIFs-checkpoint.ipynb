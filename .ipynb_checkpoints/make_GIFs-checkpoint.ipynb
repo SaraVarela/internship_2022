{
 "cells": [
  {
   "cell_type": "code",
   "execution_count": 1,
   "id": "c330b6cf",
   "metadata": {},
   "outputs": [],
   "source": [
    "import glob\n",
    "import cv2 #cv2 requires the package opencv-python to be installed. This package may be sometimes reluctant, \n",
    "           #depending on the version of python you are using. Hence, if not working, you can run this in Google Colab\n",
    "           #and upload the required files\n"
   ]
  },
  {
   "cell_type": "code",
   "execution_count": null,
   "id": "9936a409",
   "metadata": {},
   "outputs": [],
   "source": [
    "combinations = [\"Scotese2_v.s_Golonka\",\n",
    "                \"Scotese2_v.s_Matthews\",\n",
    "                \"Scotese2_v.s_Wright\",\n",
    "                \"Matthews_v.s_Golonka\",\n",
    "                \"Matthews_v.s_Wright\",\n",
    "                \"Golonka_v.s_Wright\"]    #the plots of the models compared 2 by 2"
   ]
  },
  {
   "cell_type": "code",
   "execution_count": null,
   "id": "016fb3f8",
   "metadata": {},
   "outputs": [],
   "source": [
    "for comb in combinations: \n",
    "    img_array = []\n",
    "    filenames = [img for img in glob.glob('/content/'+comb+'*.png')]  #list of the plots of a given comparaison\n",
    "    filenames.sort() #sort the names by increasing order, otherwise doesn't do this as default\n",
    "    for filename in filenames:\n",
    "        img = cv2.imread(filename)\n",
    "        height, width, layers = img.shape\n",
    "        size = (width, height)\n",
    "        img_array.append(img)\n",
    "\n",
    "    out = cv2.VideoWriter('/content/'+comb+'.avi',  #filename\n",
    "                        cv2.VideoWriter_fourcc(*'DIVX'), #format\n",
    "                        2,   #fps\n",
    "                        size)\n",
    "\n",
    "    for i in range(len(img_array)):\n",
    "        out.write(img_array[i])\n",
    "    out.release()"
   ]
  }
 ],
 "metadata": {
  "kernelspec": {
   "display_name": "Python 3 (ipykernel)",
   "language": "python",
   "name": "python3"
  },
  "language_info": {
   "codemirror_mode": {
    "name": "ipython",
    "version": 3
   },
   "file_extension": ".py",
   "mimetype": "text/x-python",
   "name": "python",
   "nbconvert_exporter": "python",
   "pygments_lexer": "ipython3",
   "version": "3.9.7"
  }
 },
 "nbformat": 4,
 "nbformat_minor": 5
}
